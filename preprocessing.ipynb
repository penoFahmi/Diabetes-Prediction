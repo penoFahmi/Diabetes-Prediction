{
 "cells": [
  {
   "cell_type": "code",
   "execution_count": 1,
   "metadata": {},
   "outputs": [],
   "source": [
    "import pandas as pd\n",
    "import numpy as np\n",
    "import matplotlib.pyplot as plt\n",
    "import seaborn as sns\n",
    "import warnings\n",
    "warnings.filterwarnings('ignore')\n",
    "\n",
    "from sklearn.model_selection import train_test_split\n",
    "from sklearn.preprocessing import StandardScaler, MinMaxScaler, OneHotEncoder, OrdinalEncoder\n",
    "from sklearn.pipeline import Pipeline\n",
    "from sklearn.compose import ColumnTransformer\n",
    "from sklearn.impute import SimpleImputer, KNNImputer\n",
    "from sklearn.tree import DecisionTreeClassifier\n",
    "from sklearn.metrics import classification_report, confusion_matrix, accuracy_score\n"
   ]
  },
  {
   "cell_type": "code",
   "execution_count": 2,
   "metadata": {},
   "outputs": [
    {
     "data": {
      "text/html": [
       "<div>\n",
       "<style scoped>\n",
       "    .dataframe tbody tr th:only-of-type {\n",
       "        vertical-align: middle;\n",
       "    }\n",
       "\n",
       "    .dataframe tbody tr th {\n",
       "        vertical-align: top;\n",
       "    }\n",
       "\n",
       "    .dataframe thead th {\n",
       "        text-align: right;\n",
       "    }\n",
       "</style>\n",
       "<table border=\"1\" class=\"dataframe\">\n",
       "  <thead>\n",
       "    <tr style=\"text-align: right;\">\n",
       "      <th></th>\n",
       "      <th>user_id</th>\n",
       "      <th>date</th>\n",
       "      <th>weight</th>\n",
       "      <th>height</th>\n",
       "      <th>blood_glucose</th>\n",
       "      <th>physical_activity</th>\n",
       "      <th>diet</th>\n",
       "      <th>medication_adherence</th>\n",
       "      <th>stress_level</th>\n",
       "      <th>sleep_hours</th>\n",
       "      <th>hydration_level</th>\n",
       "      <th>bmi</th>\n",
       "      <th>risk_score</th>\n",
       "    </tr>\n",
       "  </thead>\n",
       "  <tbody>\n",
       "    <tr>\n",
       "      <th>0</th>\n",
       "      <td>1</td>\n",
       "      <td>2021-01-01</td>\n",
       "      <td>77.450712</td>\n",
       "      <td>183.993554</td>\n",
       "      <td>112.992869</td>\n",
       "      <td>0.000000</td>\n",
       "      <td>1</td>\n",
       "      <td>0</td>\n",
       "      <td>1</td>\n",
       "      <td>6.342317</td>\n",
       "      <td>1</td>\n",
       "      <td>22.9</td>\n",
       "      <td>38.000000</td>\n",
       "    </tr>\n",
       "    <tr>\n",
       "      <th>1</th>\n",
       "      <td>2</td>\n",
       "      <td>2021-01-02</td>\n",
       "      <td>67.926035</td>\n",
       "      <td>179.246337</td>\n",
       "      <td>134.219253</td>\n",
       "      <td>12.792300</td>\n",
       "      <td>0</td>\n",
       "      <td>1</td>\n",
       "      <td>2</td>\n",
       "      <td>10.658122</td>\n",
       "      <td>1</td>\n",
       "      <td>21.1</td>\n",
       "      <td>39.162310</td>\n",
       "    </tr>\n",
       "    <tr>\n",
       "      <th>2</th>\n",
       "      <td>3</td>\n",
       "      <td>2021-01-03</td>\n",
       "      <td>79.715328</td>\n",
       "      <td>170.596304</td>\n",
       "      <td>108.303203</td>\n",
       "      <td>21.727889</td>\n",
       "      <td>1</td>\n",
       "      <td>1</td>\n",
       "      <td>0</td>\n",
       "      <td>5.997832</td>\n",
       "      <td>1</td>\n",
       "      <td>27.4</td>\n",
       "      <td>31.481633</td>\n",
       "    </tr>\n",
       "    <tr>\n",
       "      <th>3</th>\n",
       "      <td>4</td>\n",
       "      <td>2021-01-04</td>\n",
       "      <td>92.845448</td>\n",
       "      <td>163.530632</td>\n",
       "      <td>127.681539</td>\n",
       "      <td>67.753753</td>\n",
       "      <td>1</td>\n",
       "      <td>0</td>\n",
       "      <td>1</td>\n",
       "      <td>7.958814</td>\n",
       "      <td>1</td>\n",
       "      <td>34.7</td>\n",
       "      <td>45.000000</td>\n",
       "    </tr>\n",
       "    <tr>\n",
       "      <th>4</th>\n",
       "      <td>5</td>\n",
       "      <td>2021-01-05</td>\n",
       "      <td>66.487699</td>\n",
       "      <td>176.982233</td>\n",
       "      <td>70.000000</td>\n",
       "      <td>41.131062</td>\n",
       "      <td>1</td>\n",
       "      <td>1</td>\n",
       "      <td>0</td>\n",
       "      <td>6.774707</td>\n",
       "      <td>1</td>\n",
       "      <td>21.2</td>\n",
       "      <td>4.717234</td>\n",
       "    </tr>\n",
       "  </tbody>\n",
       "</table>\n",
       "</div>"
      ],
      "text/plain": [
       "   user_id        date     weight      height  blood_glucose  \\\n",
       "0        1  2021-01-01  77.450712  183.993554     112.992869   \n",
       "1        2  2021-01-02  67.926035  179.246337     134.219253   \n",
       "2        3  2021-01-03  79.715328  170.596304     108.303203   \n",
       "3        4  2021-01-04  92.845448  163.530632     127.681539   \n",
       "4        5  2021-01-05  66.487699  176.982233      70.000000   \n",
       "\n",
       "   physical_activity  diet  medication_adherence  stress_level  sleep_hours  \\\n",
       "0           0.000000     1                     0             1     6.342317   \n",
       "1          12.792300     0                     1             2    10.658122   \n",
       "2          21.727889     1                     1             0     5.997832   \n",
       "3          67.753753     1                     0             1     7.958814   \n",
       "4          41.131062     1                     1             0     6.774707   \n",
       "\n",
       "   hydration_level   bmi  risk_score  \n",
       "0                1  22.9   38.000000  \n",
       "1                1  21.1   39.162310  \n",
       "2                1  27.4   31.481633  \n",
       "3                1  34.7   45.000000  \n",
       "4                1  21.2    4.717234  "
      ]
     },
     "execution_count": 2,
     "metadata": {},
     "output_type": "execute_result"
    }
   ],
   "source": [
    "df = pd.read_csv('diabetes_data.csv')\n",
    "df.head()\n"
   ]
  },
  {
   "cell_type": "code",
   "execution_count": 3,
   "metadata": {},
   "outputs": [
    {
     "data": {
      "text/plain": [
       "(1000, 13)"
      ]
     },
     "execution_count": 3,
     "metadata": {},
     "output_type": "execute_result"
    }
   ],
   "source": [
    "df.shape"
   ]
  },
  {
   "cell_type": "code",
   "execution_count": 5,
   "metadata": {},
   "outputs": [
    {
     "name": "stdout",
     "output_type": "stream",
     "text": [
      "<class 'pandas.core.frame.DataFrame'>\n",
      "RangeIndex: 1000 entries, 0 to 999\n",
      "Data columns (total 13 columns):\n",
      " #   Column                Non-Null Count  Dtype  \n",
      "---  ------                --------------  -----  \n",
      " 0   user_id               1000 non-null   int64  \n",
      " 1   date                  1000 non-null   object \n",
      " 2   weight                1000 non-null   float64\n",
      " 3   height                1000 non-null   float64\n",
      " 4   blood_glucose         1000 non-null   float64\n",
      " 5   physical_activity     1000 non-null   float64\n",
      " 6   diet                  1000 non-null   int64  \n",
      " 7   medication_adherence  1000 non-null   int64  \n",
      " 8   stress_level          1000 non-null   int64  \n",
      " 9   sleep_hours           1000 non-null   float64\n",
      " 10  hydration_level       1000 non-null   int64  \n",
      " 11  bmi                   1000 non-null   float64\n",
      " 12  risk_score            1000 non-null   float64\n",
      "dtypes: float64(7), int64(5), object(1)\n",
      "memory usage: 101.7+ KB\n"
     ]
    }
   ],
   "source": [
    "df.info()"
   ]
  }
 ],
 "metadata": {
  "kernelspec": {
   "display_name": "Python 3",
   "language": "python",
   "name": "python3"
  },
  "language_info": {
   "codemirror_mode": {
    "name": "ipython",
    "version": 3
   },
   "file_extension": ".py",
   "mimetype": "text/x-python",
   "name": "python",
   "nbconvert_exporter": "python",
   "pygments_lexer": "ipython3",
   "version": "3.13.0"
  }
 },
 "nbformat": 4,
 "nbformat_minor": 2
}
